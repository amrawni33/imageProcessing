{
 "cells": [
  {
   "cell_type": "code",
   "execution_count": 2,
   "id": "2a458929",
   "metadata": {},
   "outputs": [
    {
     "data": {
      "image/png": "[encoded data removed]",
      "text/plain": [
       "<Figure size 432x288 with 1 Axes>"
      ]
     },
     "metadata": {
      "needs_background": "light"
     },
     "output_type": "display_data"
    }
   ],
   "source": [
    "import numpy as np\n",
    "import matplotlib.pyplot as plt\n",
    "import cv2\n",
    "def histogram(image):\n",
    "    # Calculate histogram\n",
    "    histogram = np.zeros(256, dtype=int)\n",
    "    height, width = image.shape\n",
    "    for i in range(height):\n",
    "        for j in range(width):\n",
    "            pixel_value = image[i, j]\n",
    "            histogram[pixel_value] += 1\n",
    "\n",
    "    # Plot histogram\n",
    "    plt.figure()\n",
    "    plt.bar(range(256), histogram, color='gray')\n",
    "    plt.xlabel('Pixel Value')\n",
    "    plt.ylabel('Frequency')\n",
    "    plt.title('Histogram')\n",
    "    plt.show()\n",
    "\n",
    "\n",
    "# Read image using OpenCV\n",
    "image = cv2.imread('cameraman.png', 0)  # Read as grayscale\n",
    "\n",
    "# Call histogram function\n",
    "histogram(image)"
   ]
  },
  {
   "cell_type": "code",
   "execution_count": 3,
   "id": "5f7a3547",
   "metadata": {},
   "outputs": [
    {
     "name": "stdout",
     "output_type": "stream",
     "text": [
      "Failed to load the image.\n"
     ]
    }
   ],
   "source": [
    "import numpy as np\n",
    "import cv2\n",
    "import matplotlib.pyplot as plt\n",
    "\n",
    "def histogram_equalization(image):\n",
    "    # Calculate histogram manually\n",
    "    histogram = np.zeros(256, dtype=int)\n",
    "    height, width = image.shape\n",
    "\n",
    "    for i in range(height):\n",
    "        for j in range(width):\n",
    "            pixel_value = image[i, j]\n",
    "            histogram[pixel_value] += 1\n",
    "\n",
    "    # Calculate cumulative distribution function (CDF)\n",
    "    cdf = histogram.cumsum()\n",
    "    cdf_normalized = cdf * 255 / cdf[-1]\n",
    "\n",
    "    # Perform histogram equalization\n",
    "    equalized_image = np.zeros_like(image, dtype=np.uint8)\n",
    "\n",
    "    for i in range(height):\n",
    "        for j in range(width):\n",
    "            pixel_value = image[i, j]\n",
    "            equalized_image[i, j] = cdf_normalized[pixel_value]\n",
    "\n",
    "    # Display images\n",
    "    fig, axes = plt.subplots(1, 2, figsize=(10, 5))\n",
    "    axes[0].imshow(image, cmap='gray')\n",
    "    axes[0].set_title('Original Image')\n",
    "    axes[0].axis('off')\n",
    "    axes[1].imshow(equalized_image, cmap='gray')\n",
    "    axes[1].set_title('Equalized Image')\n",
    "    axes[1].axis('off')\n",
    "    plt.tight_layout()\n",
    "    plt.show()\n",
    "\n",
    "\n",
    "# Load and display image\n",
    "image = cv2.imread('his_eq_test.jpeg', 0)  # Read as grayscale\n",
    "\n",
    "if image is not None:\n",
    "    # Call histogram equalization function\n",
    "    histogram_equalization(image)\n",
    "else:\n",
    "    print(\"Failed to load the image.\")"
   ]
  },
  {
   "cell_type": "code",
   "execution_count": 4,
   "id": "a105aa3b",
   "metadata": {},
   "outputs": [
    {
     "name": "stdout",
     "output_type": "stream",
     "text": [
      "Failed to load the image.\n"
     ]
    }
   ],
   "source": [
    "import numpy as np\n",
    "import cv2\n",
    "import matplotlib.pyplot as plt\n",
    "\n",
    "def histogram_equalization(image):\n",
    "    # Calculate histogram manually\n",
    "    histogram = np.zeros(256, dtype=int)\n",
    "    height, width = image.shape\n",
    "\n",
    "    for i in range(height):\n",
    "        for j in range(width):\n",
    "            pixel_value = image[i, j]\n",
    "            histogram[pixel_value] += 1\n",
    "\n",
    "    # Calculate cumulative distribution function (CDF)\n",
    "    cdf = histogram.cumsum()\n",
    "    cdf_normalized = cdf * 255 / cdf[-1]\n",
    "\n",
    "    # Perform histogram equalization\n",
    "    equalized_image = np.zeros_like(image, dtype=np.uint8)\n",
    "\n",
    "    for i in range(height):\n",
    "        for j in range(width):\n",
    "            pixel_value = image[i, j]\n",
    "            equalized_image[i, j] = cdf_normalized[pixel_value]\n",
    "\n",
    "    # Calculate histogram of equalized image\n",
    "    equalized_histogram = np.zeros(256, dtype=int)\n",
    "\n",
    "    for i in range(height):\n",
    "        for j in range(width):\n",
    "            pixel_value = equalized_image[i, j]\n",
    "            equalized_histogram[pixel_value] += 1\n",
    "\n",
    "    # Display original and equalized histograms\n",
    "    fig, axes = plt.subplots(2, 2, figsize=(10, 10))\n",
    "    axes[0, 0].imshow(image, cmap='gray')\n",
    "    axes[0, 0].set_title('Original Image')\n",
    "    axes[0, 0].axis('off')\n",
    "    axes[0, 1].bar(range(256), histogram, color='gray')\n",
    "    axes[0, 1].set_title('Original Histogram')\n",
    "    axes[0, 1].set_xlabel('Pixel Value')\n",
    "    axes[0, 1].set_ylabel('Frequency')\n",
    "    axes[1, 0].imshow(equalized_image, cmap='gray')\n",
    "    axes[1, 0].set_title('Equalized Image')\n",
    "    axes[1, 0].axis('off')\n",
    "    axes[1, 1].bar(range(256), equalized_histogram, color='gray')\n",
    "    axes[1, 1].set_title('Equalized Histogram')\n",
    "    axes[1, 1].set_xlabel('Pixel Value')\n",
    "    axes[1, 1].set_ylabel('Frequency')\n",
    "    plt.tight_layout()\n",
    "    plt.show()\n",
    "\n",
    "\n",
    "# Load and display image\n",
    "image = cv2.imread('his_eq_test.jpeg', 0)  # Read as grayscale\n",
    "\n",
    "if image is not None:\n",
    "    # Call histogram equalization function\n",
    "    histogram_equalization(image)\n",
    "else:\n",
    "    print(\"Failed to load the image.\")"
   ]
  },
  {
   "cell_type": "code",
   "execution_count": 5,
   "id": "22043f4e",
   "metadata": {},
   "outputs": [
    {
     "name": "stdout",
     "output_type": "stream",
     "text": [
      "Failed to load the image.\n"
     ]
    }
   ],
   "source": [
    "import numpy as np\n",
    "import cv2\n",
    "import matplotlib.pyplot as plt\n",
    "\n",
    "def contrast_stretching(image, min_new, max_new):\n",
    "    # Perform contrast stretching\n",
    "    min_old = np.min(image)\n",
    "    max_old = np.max(image)\n",
    "\n",
    "    stretched_image = np.zeros_like(image, dtype=np.uint8)\n",
    "    height, width = image.shape\n",
    "\n",
    "    original_pixels = []\n",
    "    stretched_pixels = []\n",
    "\n",
    "    for i in range(height):\n",
    "        for j in range(width):\n",
    "            pixel_value = image[i, j]\n",
    "            stretched_value = int((pixel_value - min_old) / (max_old - min_old) * (max_new - min_new) + min_new)\n",
    "\n",
    "            original_pixels.append(pixel_value)\n",
    "            stretched_pixels.append(stretched_value)\n",
    "\n",
    "            stretched_image[i, j] = stretched_value\n",
    "\n",
    "    # Display images\n",
    "    fig, axes = plt.subplots(2, 2, figsize=(10, 10))\n",
    "    axes[0, 0].imshow(image, cmap='gray')\n",
    "    axes[0, 0].set_title('Original Image')\n",
    "    axes[0, 0].axis('off')\n",
    "    axes[0, 1].hist(original_pixels, bins=256, color='gray')\n",
    "    axes[0, 1].set_title('Original Histogram')\n",
    "    axes[0, 1].set_xlabel('Pixel Value')\n",
    "    axes[0, 1].set_ylabel('Frequency')\n",
    "    axes[1, 0].imshow(stretched_image, cmap='gray')\n",
    "    axes[1, 0].set_title('Contrast Stretched Image')\n",
    "    axes[1, 0].axis('off')\n",
    "    axes[1, 1].hist(stretched_pixels, bins=256, color='gray')\n",
    "    axes[1, 1].set_title('Stretched Histogram')\n",
    "    axes[1, 1].set_xlabel('Pixel Value')\n",
    "    axes[1, 1].set_ylabel('Frequency')\n",
    "    plt.tight_layout()\n",
    "    plt.show()\n",
    "\n",
    "\n",
    "# Load and display image\n",
    "image = cv2.imread('construct.jpg', 0)  # Read as grayscale\n",
    "\n",
    "if image is not None:\n",
    "    # Define stretch parameters (min_new and max_new)\n",
    "    min_new = 0\n",
    "    max_new = 255\n",
    "\n",
    "    # Call contrast stretching function\n",
    "    contrast_stretching(image, min_new, max_new)\n",
    "else:\n",
    "    print(\"Failed to load the image.\")"
   ]
  },
  {
   "cell_type": "code",
   "execution_count": 6,
   "id": "44bf5244",
   "metadata": {},
   "outputs": [],
   "source": [
    "import numpy as np\n",
    "\n",
    "def construct_stretching(image, min_intensity, max_intensity):\n",
    "  \"\"\"Stretches the intensity range of an image to the given range.\n",
    "\n",
    "  Args:\n",
    "    image: A 2D grayscale image.\n",
    "    min_intensity: The minimum intensity value of the output image.\n",
    "    max_intensity: The maximum intensity value of the output image.\n",
    "\n",
    "  Returns:\n",
    "    A numpy array containing the stretched image.\n",
    "  \"\"\"\n",
    "\n",
    "  # Calculate the minimum and maximum intensity values of the input image.\n",
    "  min_intensity_input = np.min(image)\n",
    "  max_intensity_input = np.max(image)\n",
    "\n",
    "  # Calculate the scaling factor.\n",
    "  scaling_factor = (max_intensity - min_intensity) / (max_intensity_input - min_intensity_input)\n",
    "\n",
    "  # Stretch the image.\n",
    "  stretched_image = np.zeros_like(image)\n",
    "  for i in range(image.shape[0]):\n",
    "    for j in range(image.shape[1]):\n",
    "      stretched_image[i, j] = min_intensity + (image[i, j] - min_intensity_input) * scaling_factor\n",
    "\n",
    "  # Clip the image to the desired intensity range.\n",
    "  stretched_image = np.clip(stretched_image, min_intensity, max_intensity)\n",
    "\n",
    "  # Return the stretched image.\n",
    "  return stretched_image\n"
   ]
  },
  {
   "cell_type": "code",
   "execution_count": 8,
   "id": "f6f12030",
   "metadata": {},
   "outputs": [
    {
     "data": {
      "image/png": "[encoded data removed]",
      "text/plain": [
       "<Figure size 432x288 with 2 Axes>"
      ]
     },
     "metadata": {
      "needs_background": "light"
     },
     "output_type": "display_data"
    }
   ],
   "source": [
    "import numpy as np\n",
    "from matplotlib import pyplot as plt\n",
    "\n",
    "# Load the image.\n",
    "image = plt.imread(\"cameraman.png\")\n",
    "\n",
    "# Stretch the image to the range [0, 255].\n",
    "stretched_image = construct_stretching(image, 0, 1)\n",
    "\n",
    "# Display the original and stretched images.\n",
    "plt.subplot(1, 2, 1)\n",
    "plt.imshow(image, cmap=\"gray\")\n",
    "plt.title(\"Original image\")\n",
    "\n",
    "plt.subplot(1, 2, 2)\n",
    "plt.imshow(stretched_image, cmap=\"gray\")\n",
    "plt.title(\"Stretched image\")\n",
    "\n",
    "plt.show()"
   ]
  },
  {
   "cell_type": "code",
   "execution_count": null,
   "id": "c56a463f",
   "metadata": {},
   "outputs": [],
   "source": []
  }
 ],
 "metadata": {
  "kernelspec": {
   "display_name": "Python 3",
   "language": "python",
   "name": "python3"
  },
  "language_info": {
   "codemirror_mode": {
    "name": "ipython",
    "version": 3
   },
   "file_extension": ".py",
   "mimetype": "text/x-python",
   "name": "python",
   "nbconvert_exporter": "python",
   "pygments_lexer": "ipython3",
   "version": "3.8.16"
  }
 },
 "nbformat": 4,
 "nbformat_minor": 5
}
