{
 "cells": [
  {
   "cell_type": "code",
   "execution_count": null,
   "id": "fe879668",
   "metadata": {},
   "outputs": [],
   "source": [
    "def RGBtoGRAY(image):\n",
    "    # Get image dimensions\n",
    "    height, width, _ = image.shape\n",
    "    \n",
    "    # Create a grayscale image array\n",
    "    gray_image = np.zeros((height, width), dtype=np.uint8)\n",
    "    \n",
    "    # Convert RGB to grayscale manually\n",
    "    for i in range(height):\n",
    "        for j in range(width):\n",
    "            r, g, b = image[i, j]\n",
    "            gray_value = int(0.2989 * r + 0.5870 * g + 0.1140 * b)\n",
    "            gray_image[i, j] = gray_value\n",
    "    \n",
    "    return gray_image"
   ]
  }
 ],
 "metadata": {
  "kernelspec": {
   "display_name": "Python 3 (ipykernel)",
   "language": "python",
   "name": "python3"
  },
  "language_info": {
   "codemirror_mode": {
    "name": "ipython",
    "version": 3
   },
   "file_extension": ".py",
   "mimetype": "text/x-python",
   "name": "python",
   "nbconvert_exporter": "python",
   "pygments_lexer": "ipython3",
   "version": "3.9.13"
  }
 },
 "nbformat": 4,
 "nbformat_minor": 5
}
