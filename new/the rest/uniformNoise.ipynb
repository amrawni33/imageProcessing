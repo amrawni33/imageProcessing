{
 "cells": [
  {
   "cell_type": "code",
   "execution_count": 2,
   "id": "08894ab3",
   "metadata": {},
   "outputs": [],
   "source": [
    "# Specify the parameter\n",
    "a= 5\n",
    "b=8\n",
    "\n",
    "def uniform_noise(oldimg, a, b):                            # a and b parameters are for shaping the curve\n",
    "\n",
    "    # Convert the image to grayscale\n",
    "     oldimg = cv2.cvtColor(oldimg, cv2.COLOR_BGR2GRAY)\n",
    "    \n",
    "    H, W = oldimg.shape[:2]\n",
    "    L = oldimg.shape[2] if len(oldimg.shape) == 3 else 1\n",
    "    number_of_pixel = round((1 / (b - a)) * H * W) if b != a else 0\n",
    "    newimg = oldimg.copy()\n",
    "\n",
    "    if L == 3:\n",
    "        for i in range(255):\n",
    "            for j in range(number_of_pixel):\n",
    "                row = np.random.randint(H)\n",
    "                column = np.random.randint(W)\n",
    "                for y in range(3):\n",
    "                    newimg[row, column, y] = oldimg[row, column, y] + 10\n",
    "\n",
    "        for i in range(3):\n",
    "            mn = np.min(np.min(newimg[:, :, i]))\n",
    "            mx = np.max(np.max(newimg[:, :, i]))\n",
    "            newimg[:, :, i] = ((newimg[:, :, i] - mn) / (mx - mn)) * 255\n",
    "    else:\n",
    "        for i in range(255):\n",
    "            for j in range(number_of_pixel):\n",
    "                row = np.random.randint(H)\n",
    "                column = np.random.randint(W)\n",
    "                newimg[row, column] = oldimg[row, column] + i\n",
    "\n",
    "    return newimg"
   ]
  },
  {
   "cell_type": "code",
   "execution_count": null,
   "id": "41d9e3c2",
   "metadata": {},
   "outputs": [],
   "source": []
  }
 ],
 "metadata": {
  "kernelspec": {
   "display_name": "Python 3 (ipykernel)",
   "language": "python",
   "name": "python3"
  },
  "language_info": {
   "codemirror_mode": {
    "name": "ipython",
    "version": 3
   },
   "file_extension": ".py",
   "mimetype": "text/x-python",
   "name": "python",
   "nbconvert_exporter": "python",
   "pygments_lexer": "ipython3",
   "version": "3.9.13"
  }
 },
 "nbformat": 4,
 "nbformat_minor": 5
}
