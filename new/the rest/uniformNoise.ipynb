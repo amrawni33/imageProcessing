{
 "cells": [
  {
   "cell_type": "code",
   "execution_count": 2,
   "id": "08894ab3",
   "metadata": {},
   "outputs": [],
   "source": [
    "def uniform_noise(img):\n",
    "\n",
    "    img = img/255\n",
    "    \n",
    "    # uniform noise\n",
    "    x, y = img.shape\n",
    "    a = 0\n",
    "    b = 0.2\n",
    "    n = np.zeros((x,y), dtype=np.float64)\n",
    "    for i in range(x):\n",
    "        for j in range(y):\n",
    "            n[i][j] = np.random.uniform(a,b)\n",
    "            \n",
    "    # add noise to image\n",
    "    noise_img = img + n\n",
    "    noise_img = np.clip(noise_img, 0, 1)\n",
    "\n",
    "    return noise_img"
   ]
  },
  {
   "cell_type": "code",
   "execution_count": null,
   "id": "41d9e3c2",
   "metadata": {},
   "outputs": [],
   "source": []
  }
 ],
 "metadata": {
  "kernelspec": {
   "display_name": "Python 3 (ipykernel)",
   "language": "python",
   "name": "python3"
  },
  "language_info": {
   "codemirror_mode": {
    "name": "ipython",
    "version": 3
   },
   "file_extension": ".py",
   "mimetype": "text/x-python",
   "name": "python",
   "nbconvert_exporter": "python",
   "pygments_lexer": "ipython3",
   "version": "3.9.13"
  }
 },
 "nbformat": 4,
 "nbformat_minor": 5
}
