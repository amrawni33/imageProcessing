{
 "cells": [
  {
   "cell_type": "code",
   "execution_count": 2,
   "id": "08894ab3",
   "metadata": {},
   "outputs": [],
   "source": [
    "# Specify the parameter\n",
    "a= 5\n",
    "b=8\n",
    "\n",
    "def uniform_noise(img):                            # a and b parameters are for shaping the curve\n",
    "\n",
    "    img = img/255
         # uniform noise
         x, y = img.shape
         a = 0
         b = 0.2
         n = np.zeros((x,y), dtype=np.float64)
         for i in range(x):
             for j in range(y):
                 n[i][j] = np.random.uniform(a,b)

         # add noise to image
         noise_img = img + n
         noise_img = np.clip(noise_img, 0, 1)
    "\n",
    "    return noise_img"
   ]
  },
  {
   "cell_type": "code",
   "execution_count": null,
   "id": "41d9e3c2",
   "metadata": {},
   "outputs": [],
   "source": []
  }
 ],
 "metadata": {
  "kernelspec": {
   "display_name": "Python 3 (ipykernel)",
   "language": "python",
   "name": "python3"
  },
  "language_info": {
   "codemirror_mode": {
    "name": "ipython",
    "version": 3
   },
   "file_extension": ".py",
   "mimetype": "text/x-python",
   "name": "python",
   "nbconvert_exporter": "python",
   "pygments_lexer": "ipython3",
   "version": "3.9.13"
  }
 },
 "nbformat": 4,
 "nbformat_minor": 5
}
