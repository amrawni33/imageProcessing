{
 "cells": [
  {
   "cell_type": "markdown",
   "id": "c8644bf6-147f-4fa5-a79f-fd9ea7a26060",
   "metadata": {},
   "source": [
    "# RGp@BIN"
   ]
  },
  {
   "cell_type": "code",
   "execution_count": null,
   "id": "55acf5de-44f6-4bc0-bd47-a8411f76270f",
   "metadata": {},
   "outputs": [],
   "source": [
    "def rgb_to_binary(image):\n",
    "    # Get image dimensions\n",
    "    height, width, channels = image.shape\n",
    "    \n",
    "    # Create an empty binary image\n",
    "    binary_image = np.zeros((height, width), dtype=np.uint8)\n",
    "    \n",
    "    # Convert RGB to binary using a simple threshold (you can adjust this threshold)\n",
    "    threshold = 127\n",
    "    for i in range(height):\n",
    "        for j in range(width):\n",
    "            # Calculate the average intensity of the RGB values\n",
    "            avg_intensity = sum(image[i, j]) / channels\n",
    "            \n",
    "            # If the average intensity is greater than the threshold, set the pixel to white (255)\n",
    "            if avg_intensity > threshold:\n",
    "                binary_image[i, j] = 255\n",
    "                \n",
    "    return binary_image"
   ]
  }
 ],
 "metadata": {
  "kernelspec": {
   "display_name": "Python 3 (ipykernel)",
   "language": "python",
   "name": "python3"
  },
  "language_info": {
   "codemirror_mode": {
    "name": "ipython",
    "version": 3
   },
   "file_extension": ".py",
   "mimetype": "text/x-python",
   "name": "python",
   "nbconvert_exporter": "python",
   "pygments_lexer": "ipython3",
   "version": "3.9.13"
  }
 },
 "nbformat": 4,
 "nbformat_minor": 5
}
