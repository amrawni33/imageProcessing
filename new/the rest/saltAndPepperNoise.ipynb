{
 "cells": [
  {
   "cell_type": "code",
   "execution_count": 2,
   "id": "001d2310",
   "metadata": {},
   "outputs": [],
   "source": [
    "\n",
    "# Specify the parameter\n",
    "ps= 0.1\n",
    "pp=0.1\n",
    "\n",
    "\n",
    "def salt_and_pepper(oldimg, ps, pp):\n",
    "\n",
    "    # Convert the image to grayscale\n",
    "#     gray_image = cv2.cvtColor(image, cv2.COLOR_BGR2GRAY)\n",
    "\n",
    "    \n",
    "    R, C = oldimg.shape[:2]\n",
    "    L = oldimg.shape[2] if len(oldimg.shape) == 3 else 1\n",
    "    number_of_salt = round(ps * R * C)\n",
    "    number_of_pepper = round(pp * R * C)\n",
    "    newimg = oldimg.copy()\n",
    "\n",
    "    if L == 3:\n",
    "        for i in range(number_of_salt):\n",
    "            row = np.random.randint(R)\n",
    "            column = np.random.randint(C)\n",
    "            for y in range(3):\n",
    "                newimg[row, column, y] = 255\n",
    "\n",
    "        for i in range(number_of_pepper):\n",
    "            row = np.random.randint(R)\n",
    "            column = np.random.randint(C)\n",
    "            for y in range(3):\n",
    "                newimg[row, column, y] = 0\n",
    "    else:\n",
    "        for i in range(number_of_salt):\n",
    "            row = np.random.randint(R)\n",
    "            column = np.random.randint(C)\n",
    "            newimg[row, column] = 255\n",
    "\n",
    "        for i in range(number_of_pepper):\n",
    "            row = np.random.randint(R)\n",
    "            column = np.random.randint(C)\n",
    "            newimg[row, column] = 0\n",
    "\n",
    "    return newimg"
   ]
  },
  {
   "cell_type": "code",
   "execution_count": null,
   "id": "4bb585f1",
   "metadata": {},
   "outputs": [],
   "source": []
  }
 ],
 "metadata": {
  "kernelspec": {
   "display_name": "Python 3 (ipykernel)",
   "language": "python",
   "name": "python3"
  },
  "language_info": {
   "codemirror_mode": {
    "name": "ipython",
    "version": 3
   },
   "file_extension": ".py",
   "mimetype": "text/x-python",
   "name": "python",
   "nbconvert_exporter": "python",
   "pygments_lexer": "ipython3",
   "version": "3.9.13"
  }
 },
 "nbformat": 4,
 "nbformat_minor": 5
}
