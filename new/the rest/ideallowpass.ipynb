{
 "cells": [
  {
   "cell_type": "code",
   "execution_count": 2,
   "id": "20b910a2",
   "metadata": {},
   "outputs": [],
   "source": [
    "# Specify the cutoff frequency D0\n",
    "D0 = 150\n",
    "\n",
    "def ideallowpass(image, D0):             # D0 is the cutoff frequency\n",
    "    \n",
    "    \n",
    "    # Convert the image to grayscale\n",
    "#     gray_image = cv2.cvtColor(image, cv2.COLOR_BGR2GRAY)\n",
    "    \n",
    "    FT_img = np.fft.fft2(image)\n",
    "    FT_img = np.fft.fftshift(FT_img)\n",
    "    R, C = image.shape[:2]\n",
    "    filter = np.zeros((R, C))\n",
    "    \n",
    "    for i in range(R):\n",
    "        for j in range(C):\n",
    "            dis = np.sqrt(((i-(R/2))**2) + ((j-(C/2))**2))\n",
    "            if dis <= D0:\n",
    "                filter[i, j] = 1\n",
    "            else:\n",
    "                filter[i, j] = 0\n",
    "\n",
    "    G = filter * FT_img\n",
    "    output_img = np.fft.ifftshift(G)\n",
    "    output_img = np.fft.ifft2(output_img)\n",
    "    output_img = np.abs(output_img)\n",
    "    output_img = np.log(1 + output_img)\n",
    "    output_img = cv2.normalize(output_img, None, 0, 255, cv2.NORM_MINMAX)\n",
    "    \n",
    "    return output_img"
   ]
  }
 ],
 "metadata": {
  "kernelspec": {
   "display_name": "Python 3 (ipykernel)",
   "language": "python",
   "name": "python3"
  },
  "language_info": {
   "codemirror_mode": {
    "name": "ipython",
    "version": 3
   },
   "file_extension": ".py",
   "mimetype": "text/x-python",
   "name": "python",
   "nbconvert_exporter": "python",
   "pygments_lexer": "ipython3",
   "version": "3.9.13"
  }
 },
 "nbformat": 4,
 "nbformat_minor": 5
}
