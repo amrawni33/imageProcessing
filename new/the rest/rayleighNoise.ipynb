{
 "cells": [
  {
   "cell_type": "code",
   "execution_count": 2,
   "id": "4d77b788",
   "metadata": {},
   "outputs": [],
   "source": [
    "\n",
    "# Specify the parameter\n",
    "a=0.1\n",
    "b=5\n",
    "\n",
    "def rayleigh_noise(oldimg, a, b):\n",
    "    \n",
    "    \n",
    "    # Convert the image to grayscale\n",
    "#     gray_image = cv2.cvtColor(image, cv2.COLOR_BGR2GRAY)\n",
    "\n",
    "    if len(oldimg.shape) == 3 and oldimg.shape[2] == 3:\n",
    "        is_rgb = True\n",
    "        R, C, _ = oldimg.shape\n",
    "        newimg = np.zeros_like(oldimg)\n",
    "    else:\n",
    "        is_rgb = False\n",
    "        R, C = oldimg.shape\n",
    "        newimg = np.zeros((R, C))\n",
    "    \n",
    "    for i in range(1, 256):\n",
    "        number_of_pixel = round((2 / b) * (i - a) * (np.exp((-(i - a) * (i - a)) / b) * R * C))\n",
    "        for j in range(number_of_pixel):\n",
    "            row = np.random.randint(0, R)\n",
    "            column = np.random.randint(0, C)\n",
    "            if is_rgb:\n",
    "                for y in range(3):\n",
    "                    newimg[row, column, y] = oldimg[row, column, y] + i\n",
    "            else:\n",
    "                newimg[row, column] = oldimg[row, column] + i\n",
    "    \n",
    "    if is_rgb:\n",
    "        # Contrast stretching\n",
    "        for i in range(3):\n",
    "            mn = np.min(newimg[:, :, i])\n",
    "            mx = np.max(newimg[:, :, i])\n",
    "            newimg[:, :, i] = ((newimg[:, :, i] - mn) / (mx - mn)) * 255\n",
    "    \n",
    "    return newimg"
   ]
  },
  {
   "cell_type": "code",
   "execution_count": null,
   "id": "d2f7a010",
   "metadata": {},
   "outputs": [],
   "source": []
  }
 ],
 "metadata": {
  "kernelspec": {
   "display_name": "Python 3 (ipykernel)",
   "language": "python",
   "name": "python3"
  },
  "language_info": {
   "codemirror_mode": {
    "name": "ipython",
    "version": 3
   },
   "file_extension": ".py",
   "mimetype": "text/x-python",
   "name": "python",
   "nbconvert_exporter": "python",
   "pygments_lexer": "ipython3",
   "version": "3.9.13"
  }
 },
 "nbformat": 4,
 "nbformat_minor": 5
}
