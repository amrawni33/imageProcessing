{
 "cells": [
  {
   "cell_type": "code",
   "execution_count": 3,
   "id": "7086793a",
   "metadata": {},
   "outputs": [],
   "source": [
    "# Specify the parameter\n",
    "a=0.1\n",
    "\n",
    "def exponential_noise(oldimg, a):\n",
    "    \n",
    "    # Convert the image to grayscale\n",
    "#     gray_image = cv2.cvtColor(image, cv2.COLOR_BGR2GRAY)\n",
    "\n",
    "if len(oldimg.shape) == 3:  # Color image\n",
    "        R, C, L = oldimg.shape\n",
    "        newimg = oldimg.copy()\n",
    "\n",
    "        for i in range(255):\n",
    "            number_of_pixel = round(a * (np.exp(-(a * i))) * R * C)\n",
    "            for j in range(number_of_pixel):\n",
    "                row = np.random.randint(R)\n",
    "                column = np.random.randint(C)\n",
    "                for k in range(L):\n",
    "                    newimg[row, column, k] = oldimg[row, column, k] + i\n",
    "\n",
    "        for i in range(L):\n",
    "            mn = np.min(newimg[:, :, i])\n",
    "            mx = np.max(newimg[:, :, i])\n",
    "            newimg[:, :, i] = ((newimg[:, :, i] - mn) / (mx - mn)) * 255\n",
    "\n",
    "    else:  # Grayscale image\n",
    "        R, C = oldimg.shape\n",
    "        newimg = oldimg.copy()\n",
    "\n",
    "        for i in range(255):\n",
    "            number_of_pixel = round(a * (np.exp(-(a * i))) * R * C)\n",
    "            for j in range(number_of_pixel):\n",
    "                row = np.random.randint(R)\n",
    "                column = np.random.randint(C)\n",
    "                newimg[row, column] = oldimg[row, column] + i\n",
    "\n",
    "        mn = np.min(newimg)\n",
    "        mx = np.max(newimg)\n",
    "        newimg = ((newimg - mn) / (mx - mn)) * 255\n",
    "\n",
    "    return newimg"
   ]
  },
  {
   "cell_type": "code",
   "execution_count": null,
   "id": "b64d3696",
   "metadata": {},
   "outputs": [],
   "source": []
  }
 ],
 "metadata": {
  "kernelspec": {
   "display_name": "Python 3 (ipykernel)",
   "language": "python",
   "name": "python3"
  },
  "language_info": {
   "codemirror_mode": {
    "name": "ipython",
    "version": 3
   },
   "file_extension": ".py",
   "mimetype": "text/x-python",
   "name": "python",
   "nbconvert_exporter": "python",
   "pygments_lexer": "ipython3",
   "version": "3.9.13"
  }
 },
 "nbformat": 4,
 "nbformat_minor": 5
}
