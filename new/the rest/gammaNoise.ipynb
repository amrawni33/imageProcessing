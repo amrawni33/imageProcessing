{
 "cells": [
  {
   "cell_type": "code",
   "execution_count": 13,
   "id": "e8994724",
   "metadata": {},
   "outputs": [],
   "source": [
    "# Specify the parameter\n",
    "a=0.1\n",
    "b=5\n",
    "\n",
    "def gammaNoise(oldimg, a, b):                            # a and b parameters are for shaping the curve\n",
    "\n",
    "    # Convert the image to grayscale\n",
    "#     gray_image = cv2.cvtColor(image, cv2.COLOR_BGR2GRAY)\n",
    "\n",
    "    \n",
    "    if len(oldimg.shape) == 3 and oldimg.shape[2] == 3:  # RGB image\n",
    "        R, C, L = oldimg.shape\n",
    "        newimg = np.zeros_like(oldimg)\n",
    "    else:  # Grayscale image\n",
    "        R, C = oldimg.shape\n",
    "        newimg = np.zeros((R, C))\n",
    "    \n",
    "    for i in range(1, 256):\n",
    "        number_of_pixel = round((((a ** b) * (i ** (b - 1))) / np.math.factorial(b - 1)) * (np.exp(-(a * i))) * R * C)\n",
    "        for j in range(number_of_pixel):\n",
    "            row = np.random.randint(0, R)\n",
    "            column = np.random.randint(0, C)\n",
    "            if len(oldimg.shape) == 3 and oldimg.shape[2] == 3:  # RGB image\n",
    "                for k in range(3):\n",
    "                    newimg[row, column, k] = oldimg[row, column, k] + i\n",
    "            else:  # Grayscale image\n",
    "                newimg[row, column] = oldimg[row, column] + i\n",
    "    \n",
    "    if len(oldimg.shape) == 3 and oldimg.shape[2] == 3:  # RGB image\n",
    "        for i in range(3):\n",
    "            mn = np.min(newimg[:, :, i])\n",
    "            mx = np.max(newimg[:, :, i])\n",
    "            newimg[:, :, i] = ((newimg[:, :, i] - mn) / (mx - mn)) * 255\n",
    "    else:  # Grayscale image\n",
    "        mn = np.min(newimg)\n",
    "        mx = np.max(newimg)\n",
    "        newimg = ((newimg - mn) / (mx - mn)) * 255\n",
    "    \n",
    "    return newimg"
   ]
  }
 ],
 "metadata": {
  "kernelspec": {
   "display_name": "Python 3 (ipykernel)",
   "language": "python",
   "name": "python3"
  },
  "language_info": {
   "codemirror_mode": {
    "name": "ipython",
    "version": 3
   },
   "file_extension": ".py",
   "mimetype": "text/x-python",
   "name": "python",
   "nbconvert_exporter": "python",
   "pygments_lexer": "ipython3",
   "version": "3.9.13"
  }
 },
 "nbformat": 4,
 "nbformat_minor": 5
}
