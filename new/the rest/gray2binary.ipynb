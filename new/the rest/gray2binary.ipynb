{
 "cells": [
  {
   "cell_type": "code",
   "execution_count": 1,
   "id": "b7cb0d1a",
   "metadata": {},
   "outputs": [],
   "source": [
    "def gray2binary(image):\n",
    "    # Convert the image to grayscale\n",
    "    gray_image = image.convert(\"L\")\n",
    "\n",
    "    # Get the size of the image\n",
    "    width, height = gray_image.size\n",
    "\n",
    "    # Create a new binary image\n",
    "    binary_image = Image.new(\"1\", (width, height))\n",
    "\n",
    "    # Threshold value for conversion\n",
    "    threshold = 128\n",
    "\n",
    "    # Loop over each pixel and convert to binary\n",
    "    for x in range(width):\n",
    "        for y in range(height):\n",
    "            pixel_value = gray_image.getpixel((x, y))\n",
    "\n",
    "            # Convert to binary based on threshold\n",
    "            if pixel_value >= threshold:\n",
    "                binary_image.putpixel((x, y), 1)\n",
    "            else:\n",
    "                binary_image.putpixel((x, y), 0)\n",
    "\n",
    "    return binary_image"
   ]
  }
 ],
 "metadata": {
  "kernelspec": {
   "display_name": "Python 3 (ipykernel)",
   "language": "python",
   "name": "python3"
  },
  "language_info": {
   "codemirror_mode": {
    "name": "ipython",
    "version": 3
   },
   "file_extension": ".py",
   "mimetype": "text/x-python",
   "name": "python",
   "nbconvert_exporter": "python",
   "pygments_lexer": "ipython3",
   "version": "3.9.13"
  }
 },
 "nbformat": 4,
 "nbformat_minor": 5
}
