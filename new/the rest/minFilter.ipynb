{
 "cells": [
  {
   "cell_type": "code",
   "execution_count": null,
   "id": "17f68556",
   "metadata": {},
   "outputs": [],
   "source": [
    "def minFilter(img):\n",
    "\n",
    "    # Obtain number of rows and columns \n",
    "    # of the image \n",
    "    m, n = img.shape \n",
    "\n",
    "    # Develop Averaging filter(3, 3) mask \n",
    "   # mask = np.ones([3, 3], dtype = int) \n",
    "    #mask = mask / 9\n",
    "\n",
    "    # Convolve the 3X3 mask over the image \n",
    "    img_new = np.zeros([m, n]) \n",
    "\n",
    "    for i in range(1, m-1): \n",
    "        for j in range(1, n-1): \n",
    "            temp = np.array([[img[i-1, j-1], img[i-1, j], img[i-1, j + 1]],\n",
    "            [img[i, j-1], img[i, j], img[i, j + 1]],\n",
    "            [img[i + 1, j-1], img[i + 1, j], img[i + 1, j + 1]]], dtype = int) \n",
    "\n",
    "            img_new[i, j]= temp.min()\n",
    "\n",
    "    img_new = img_new.astype(np.uint8) \n",
    "\n",
    "    return img_new"
   ]
  }
 ],
 "metadata": {
  "kernelspec": {
   "display_name": "Python 3 (ipykernel)",
   "language": "python",
   "name": "python3"
  },
  "language_info": {
   "codemirror_mode": {
    "name": "ipython",
    "version": 3
   },
   "file_extension": ".py",
   "mimetype": "text/x-python",
   "name": "python",
   "nbconvert_exporter": "python",
   "pygments_lexer": "ipython3",
   "version": "3.9.13"
  }
 },
 "nbformat": 4,
 "nbformat_minor": 5
}
