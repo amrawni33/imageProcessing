{
 "cells": [
  {
   "cell_type": "code",
   "execution_count": 3,
   "id": "c8f1b25a",
   "metadata": {},
   "outputs": [],
   "source": [
    "# Specify the cutoff frequency D0\n",
    "D0 = 22\n",
    "\n",
    "def idealhighpass(image, D0):             # D0 is the cutoff frequency\n",
    "\n",
    "    \n",
    "    # Convert the image to grayscale\n",
    "#     gray_image = cv2.cvtColor(image, cv2.COLOR_BGR2GRAY)\n",
    "\n",
    "    FT_img = np.fft.fft2(image)\n",
    "    FT_img = np.fft.fftshift(FT_img)\n",
    "    R, C = image.shape\n",
    "    filter = np.zeros((R, C))\n",
    "    \n",
    "    for i in range(R):\n",
    "        for j in range(C):\n",
    "            dis = np.sqrt((((R/2)-i)**2) + (((C/2)-j)**2))\n",
    "            if dis <= D0:\n",
    "                filter[i, j] = 0\n",
    "            else:\n",
    "                filter[i, j] = 1\n",
    "    \n",
    "    filter = 1 - filter\n",
    "    G = filter * FT_img\n",
    "    output_img = np.fft.ifftshift(G)\n",
    "    output_img = np.fft.ifft2(output_img)\n",
    "    output_img = np.abs(output_img)\n",
    "    output_img = np.log(1 + output_img)\n",
    "    output_img = cv2.normalize(output_img, None, 0, 1, cv2.NORM_MINMAX)\n",
    "    \n",
    "    return output_img"
   ]
  },
  {
   "cell_type": "code",
   "execution_count": null,
   "id": "17ed075a",
   "metadata": {},
   "outputs": [],
   "source": []
  }
 ],
 "metadata": {
  "kernelspec": {
   "display_name": "Python 3 (ipykernel)",
   "language": "python",
   "name": "python3"
  },
  "language_info": {
   "codemirror_mode": {
    "name": "ipython",
    "version": 3
   },
   "file_extension": ".py",
   "mimetype": "text/x-python",
   "name": "python",
   "nbconvert_exporter": "python",
   "pygments_lexer": "ipython3",
   "version": "3.9.13"
  }
 },
 "nbformat": 4,
 "nbformat_minor": 5
}
