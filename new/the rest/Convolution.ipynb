{
 "cells": [
  {
   "cell_type": "code",
   "execution_count": null,
   "id": "bd097609",
   "metadata": {},
   "outputs": [],
   "source": [
    "def convolution2D(image):\n",
    "    # Get image dimensions\n",
    "    img_height, img_width = image.shape\n",
    "\n",
    "    # Define a simple 3x3 kernel for illustration purposes\n",
    "    kernel = np.array([[1, 0, -1],\n",
    "                       [2, 0, -2],\n",
    "                       [1, 0, -1]])\n",
    "\n",
    "    # Rotate the kernel by 180 degrees\n",
    "    rotated_kernel = np.flipud(np.fliplr(kernel))\n",
    "\n",
    "    # Get the dimensions of the rotated kernel\n",
    "    kernel_height, kernel_width = rotated_kernel.shape\n",
    "\n",
    "    # Calculate the padding for boundary handling\n",
    "    pad_height = kernel_height // 2\n",
    "    pad_width = kernel_width // 2\n",
    "\n",
    "    # Create an empty output image\n",
    "    output_image = np.zeros_like(image)\n",
    "\n",
    "    # Iterate over the image pixels\n",
    "    for i in range(pad_height, img_height - pad_height):\n",
    "        for j in range(pad_width, img_width - pad_width):\n",
    "            # Extract the region of interest (ROI)\n",
    "            roi = image[i - pad_height:i + pad_height + 1, j - pad_width:j + pad_width + 1]\n",
    "\n",
    "            # Convolution operation (element-wise multiplication and sum)\n",
    "            output_image[i, j] = np.sum(roi * rotated_kernel)\n",
    "\n",
    "    return output_image"
   ]
  }
 ],
 "metadata": {
  "kernelspec": {
   "display_name": "Python 3 (ipykernel)",
   "language": "python",
   "name": "python3"
  },
  "language_info": {
   "codemirror_mode": {
    "name": "ipython",
    "version": 3
   },
   "file_extension": ".py",
   "mimetype": "text/x-python",
   "name": "python",
   "nbconvert_exporter": "python",
   "pygments_lexer": "ipython3",
   "version": "3.9.13"
  }
 },
 "nbformat": 4,
 "nbformat_minor": 5
}
