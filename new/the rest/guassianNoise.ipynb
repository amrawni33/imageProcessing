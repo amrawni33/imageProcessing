{
 "cells": [
  {
   "cell_type": "code",
   "execution_count": 2,
   "id": "c6fa6fa4",
   "metadata": {},
   "outputs": [],
   "source": [
    "# Specify the parameter\n",
    "mean=50\n",
    "sigma=8\n",
    "\n",
    "def gaussian_noise(oldimg, mean, sigma):\n",
    "    \n",
    "    \n",
    "    \n",
    "    # Convert the image to grayscale\n",
    "#     gray_image = cv2.cvtColor(image, cv2.COLOR_BGR2GRAY)\n",
    "\n",
    "    R, C = oldimg.shape[:2]\n",
    "    L = oldimg.shape[2] if len(oldimg.shape) == 3 else 1\n",
    "    newimg = oldimg.copy().astype(float)  # Convert to float data type\n",
    "\n",
    "    if L == 3:\n",
    "        for i in range(255):\n",
    "            number_of_pixel = round(((np.exp(-((i - sigma) ** 2 / (2 * mean ** 2))) / np.sqrt(2 * np.pi * mean ** 2))) * R * C)\n",
    "            for j in range(number_of_pixel):\n",
    "                row = np.random.randint(R)\n",
    "                column = np.random.randint(C)\n",
    "                for k in range(3):\n",
    "                    newimg[row, column, k] = oldimg[row, column, k] + i\n",
    "\n",
    "        for i in range(3):\n",
    "            mn = np.min(np.min(newimg[:, :, i]))\n",
    "            mx = np.max(np.max(newimg[:, :, i]))\n",
    "            newimg[:, :, i] = ((newimg[:, :, i] - mn) / (mx - mn)) * 255\n",
    "\n",
    "    else:\n",
    "        for i in range(255):\n",
    "            number_of_pixel = round(((np.exp(-((i - sigma) ** 2 / (2 * mean ** 2))) / np.sqrt(2 * np.pi * mean ** 2))) * R * C)\n",
    "            for j in range(number_of_pixel):\n",
    "                row = np.random.randint(R)\n",
    "                column = np.random.randint(C)\n",
    "                newimg[row, column] = oldimg[row, column] + i\n",
    "\n",
    "    return newimg"
   ]
  },
  {
   "cell_type": "code",
   "execution_count": null,
   "id": "beefd503",
   "metadata": {},
   "outputs": [],
   "source": []
  }
 ],
 "metadata": {
  "kernelspec": {
   "display_name": "Python 3 (ipykernel)",
   "language": "python",
   "name": "python3"
  },
  "language_info": {
   "codemirror_mode": {
    "name": "ipython",
    "version": 3
   },
   "file_extension": ".py",
   "mimetype": "text/x-python",
   "name": "python",
   "nbconvert_exporter": "python",
   "pygments_lexer": "ipython3",
   "version": "3.9.13"
  }
 },
 "nbformat": 4,
 "nbformat_minor": 5
}
