{
 "cells": [
  {
   "cell_type": "code",
   "execution_count": 2,
   "id": "50db29da",
   "metadata": {},
   "outputs": [],
   "source": [
    "# Specify the cutoff frequency D0\n",
    "D0 = 22\n",
    "\n",
    "def gaussianhighpass(image, D0):             # D0 is the cutoff frequency\n",
    "\n",
    "    \n",
    "    # Convert the image to grayscale\n",
    "#     gray_image = cv2.cvtColor(image, cv2.COLOR_BGR2GRAY)\n",
    "\n",
    "    R, C = image.shape\n",
    "    FT_img = np.fft.fft2(image)\n",
    "    FT_img = np.fft.fftshift(FT_img)\n",
    "    filter = np.zeros((R, C))\n",
    "\n",
    "    for i in range(R):\n",
    "        for j in range(C):\n",
    "            dis = np.sqrt((((R/2)-i)**2) + (((C/2)-j)**2))\n",
    "            filter[i, j] = np.exp(-dis**2 / (2 * D0**2))\n",
    "\n",
    "    filter = 1 - filter\n",
    "    G = filter * FT_img\n",
    "    output_img = np.fft.fftshift(G)\n",
    "    output_img = np.fft.ifft2(output_img)\n",
    "    output_img = np.abs(output_img)\n",
    "    output_img = np.log(1 + output_img)\n",
    "    output_img = cv2.normalize(output_img, None, 0, 255, cv2.NORM_MINMAX)\n",
    "    \n",
    "    return output_img"
   ]
  },
  {
   "cell_type": "code",
   "execution_count": null,
   "id": "99fcf122",
   "metadata": {},
   "outputs": [],
   "source": []
  }
 ],
 "metadata": {
  "kernelspec": {
   "display_name": "Python 3 (ipykernel)",
   "language": "python",
   "name": "python3"
  },
  "language_info": {
   "codemirror_mode": {
    "name": "ipython",
    "version": 3
   },
   "file_extension": ".py",
   "mimetype": "text/x-python",
   "name": "python",
   "nbconvert_exporter": "python",
   "pygments_lexer": "ipython3",
   "version": "3.9.13"
  }
 },
 "nbformat": 4,
 "nbformat_minor": 5
}
