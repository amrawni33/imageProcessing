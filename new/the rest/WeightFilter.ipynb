{
 "cells": [
  {
   "cell_type": "code",
   "execution_count": 2,
   "id": "6643f95d",
   "metadata": {},
   "outputs": [],
   "source": [
    "def weightFilter(img):\n",
    "\n",
    "    # Obtain number of rows and columns \n",
    "    # of the image \n",
    "    m, n = img.shape \n",
    "\n",
    "    # Develop weight filter(3, 3) mask\n",
    "    mask = np.array([[1,2,1],[2,4,2],[1,2,1]], dtype = int)\n",
    "\n",
    "    # Convolve the 3X3 mask over the image \n",
    "    img_new = np.zeros([m, n]) \n",
    "\n",
    "    for i in range(1, m-1): \n",
    "        for j in range(1, n-1): \n",
    "            temp = img[i-1, j-1]*mask[0, 0]+img[i-1, j]*mask[0, 1]+img[i-1, j + 1]*mask[0, 2]+img[i, j-1]*mask[1, 0]+ img[i, j]*mask[1, 1]+img[i, j + 1]*mask[1, 2]+img[i + 1, j-1]*mask[2, 0]+img[i + 1, j]*mask[2, 1]+img[i + 1, j + 1]*mask[2, 2] \n",
    "\n",
    "            img_new[i, j]= temp * 1/np.sum(mask)\n",
    "\n",
    "    img_new = img_new.astype(np.uint8) \n",
    "\n",
    "    return img_new"
   ]
  }
 ],
 "metadata": {
  "kernelspec": {
   "display_name": "Python 3 (ipykernel)",
   "language": "python",
   "name": "python3"
  },
  "language_info": {
   "codemirror_mode": {
    "name": "ipython",
    "version": 3
   },
   "file_extension": ".py",
   "mimetype": "text/x-python",
   "name": "python",
   "nbconvert_exporter": "python",
   "pygments_lexer": "ipython3",
   "version": "3.9.13"
  }
 },
 "nbformat": 4,
 "nbformat_minor": 5
}
