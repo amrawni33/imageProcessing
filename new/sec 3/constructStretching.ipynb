{
 "cells": [
  {
   "cell_type": "code",
   "execution_count": null,
   "id": "f795ae0f",
   "metadata": {},
   "outputs": [],
   "source": [
    "# Define stretch parameters (min_new and max_new)\n",
    "min_new = 0\n",
    "max_new = 255\n",
    "\n",
    "def contrast_stretching(image, min_new, max_new):\n",
    "    # Perform contrast stretching\n",
    "    min_old = np.min(image)\n",
    "    max_old = np.max(image)\n",
    "\n",
    "    stretched_image = np.zeros_like(image, dtype=np.uint8)\n",
    "    height, width = image.shape\n",
    "\n",
    "    original_pixels = []\n",
    "    stretched_pixels = []\n",
    "\n",
    "    for i in range(height):\n",
    "        for j in range(width):\n",
    "            pixel_value = image[i, j]\n",
    "            stretched_value = int((pixel_value - min_old) / (max_old - min_old) * (max_new - min_new) + min_new)\n",
    "\n",
    "            original_pixels.append(pixel_value)\n",
    "            stretched_pixels.append(stretched_value)\n",
    "\n",
    "            stretched_image[i, j] = stretched_value\n",
    "\n",
    "    return stretched_image"
   ]
  }
 ],
 "metadata": {
  "kernelspec": {
   "display_name": "Python 3 (ipykernel)",
   "language": "python",
   "name": "python3"
  },
  "language_info": {
   "codemirror_mode": {
    "name": "ipython",
    "version": 3
   },
   "file_extension": ".py",
   "mimetype": "text/x-python",
   "name": "python",
   "nbconvert_exporter": "python",
   "pygments_lexer": "ipython3",
   "version": "3.9.13"
  }
 },
 "nbformat": 4,
 "nbformat_minor": 5
}
