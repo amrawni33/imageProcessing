{
 "cells": [
  {
   "cell_type": "code",
   "execution_count": null,
   "id": "d88121d5",
   "metadata": {},
   "outputs": [],
   "source": [
    "def histogram_equalization(image):\n",
    "    # Calculate histogram manually\n",
    "    histogram = np.zeros(256, dtype=int)\n",
    "    height, width = image.shape\n",
    "\n",
    "    for i in range(height):\n",
    "        for j in range(width):\n",
    "            pixel_value = image[i, j]\n",
    "            histogram[pixel_value] += 1\n",
    "\n",
    "    # Calculate cumulative distribution function (CDF)\n",
    "    cdf = histogram.cumsum()\n",
    "    cdf_normalized = cdf * 255 / cdf[-1]\n",
    "\n",
    "    # Perform histogram equalization\n",
    "    equalized_image = np.zeros_like(image, dtype=np.uint8)\n",
    "\n",
    "    for i in range(height):\n",
    "        for j in range(width):\n",
    "            pixel_value = image[i, j]\n",
    "            equalized_image[i, j] = cdf_normalized[pixel_value]\n",
    "\n",
    "    # Calculate histogram of equalized image\n",
    "    equalized_histogram = np.zeros(256, dtype=int)\n",
    "\n",
    "    for i in range(height):\n",
    "        for j in range(width):\n",
    "            pixel_value = equalized_image[i, j]\n",
    "            equalized_histogram[pixel_value] += 1\n",
    "\n",
    "    return equalized_histogram"
   ]
  }
 ],
 "metadata": {
  "kernelspec": {
   "display_name": "Python 3 (ipykernel)",
   "language": "python",
   "name": "python3"
  },
  "language_info": {
   "codemirror_mode": {
    "name": "ipython",
    "version": 3
   },
   "file_extension": ".py",
   "mimetype": "text/x-python",
   "name": "python",
   "nbconvert_exporter": "python",
   "pygments_lexer": "ipython3",
   "version": "3.9.13"
  }
 },
 "nbformat": 4,
 "nbformat_minor": 5
}
