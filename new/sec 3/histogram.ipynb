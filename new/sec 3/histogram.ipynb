{
 "cells": [
  {
   "cell_type": "code",
   "execution_count": 3,
   "id": "2a458929",
   "metadata": {},
   "outputs": [],
   "source": [
    "def histogram(image):\n",
    "    # Calculate histogram\n",
    "    histogram = np.zeros(256, dtype=int)\n",
    "    height, width = image.shape\n",
    "    for i in range(height):\n",
    "        for j in range(width):\n",
    "            pixel_value = image[i, j]\n",
    "            histogram[pixel_value] += 1\n",
    "\n",
    "    return histogram"
   ]
  }
 ],
 "metadata": {
  "kernelspec": {
   "display_name": "Python 3 (ipykernel)",
   "language": "python",
   "name": "python3"
  },
  "language_info": {
   "codemirror_mode": {
    "name": "ipython",
    "version": 3
   },
   "file_extension": ".py",
   "mimetype": "text/x-python",
   "name": "python",
   "nbconvert_exporter": "python",
   "pygments_lexer": "ipython3",
   "version": "3.9.13"
  }
 },
 "nbformat": 4,
 "nbformat_minor": 5
}
