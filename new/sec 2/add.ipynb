{
 "cells": [
  {
   "cell_type": "code",
   "execution_count": 3,
   "id": "0fbd452b",
   "metadata": {},
   "outputs": [
    {
     "data": {
      "text/plain": [
       "array([[149, 255, 255, ..., 242, 248, 255],\n",
       "       [148, 255, 255, ..., 245, 251, 255],\n",
       "       [147, 255, 255, ..., 248, 255, 255],\n",
       "       ...,\n",
       "       [142, 184, 187, ..., 146, 146, 145],\n",
       "       [127, 156, 154, ..., 138, 138, 141],\n",
       "       [129, 131, 132, ..., 130, 130, 129]], dtype=uint8)"
      ]
     },
     "execution_count": 3,
     "metadata": {},
     "output_type": "execute_result"
    }
   ],
   "source": [
    "def add(img):\n",
    "\n",
    "    for x in range(img.shape[0]):\n",
    "        for y in range(img.shape[1]):\n",
    "            if img[x][y] + 127 > 255:\n",
    "                img[x][y] = 255\n",
    "            else:\n",
    "                img[x][y] += 127\n",
    "\n",
    "    return img"
   ]
  }
 ],
 "metadata": {
  "kernelspec": {
   "display_name": "Python 3 (ipykernel)",
   "language": "python",
   "name": "python3"
  },
  "language_info": {
   "codemirror_mode": {
    "name": "ipython",
    "version": 3
   },
   "file_extension": ".py",
   "mimetype": "text/x-python",
   "name": "python",
   "nbconvert_exporter": "python",
   "pygments_lexer": "ipython3",
   "version": "3.9.13"
  }
 },
 "nbformat": 4,
 "nbformat_minor": 5
}
