{
 "cells": [
  {
   "cell_type": "code",
   "execution_count": 2,
   "id": "5e10ecc9",
   "metadata": {},
   "outputs": [],
   "source": [
    "def negative_correction(image):\n",
    "    corrected_image = np.copy(image)\n",
    "    # Get image dimensions\n",
    "    height, width, _ = image.shape\n",
    "    for i in range(height):\n",
    "        for j in range(width):\n",
    "            corrected_image[i,j]=255-image[i,j]\n",
    "    return corrected_image"
   ]
  }
 ],
 "metadata": {
  "kernelspec": {
   "display_name": "Python 3 (ipykernel)",
   "language": "python",
   "name": "python3"
  },
  "language_info": {
   "codemirror_mode": {
    "name": "ipython",
    "version": 3
   },
   "file_extension": ".py",
   "mimetype": "text/x-python",
   "name": "python",
   "nbconvert_exporter": "python",
   "pygments_lexer": "ipython3",
   "version": "3.9.13"
  }
 },
 "nbformat": 4,
 "nbformat_minor": 5
}
