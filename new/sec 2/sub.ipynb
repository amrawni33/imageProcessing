{
 "cells": [
  {
   "cell_type": "code",
   "execution_count": null,
   "id": "29fbd9b5",
   "metadata": {},
   "outputs": [],
   "source": [
    "def subtract(img):\n",
    "\n",
    "    for x in range(img.shape[0]):\n",
    "        for y in range(img.shape[1]):\n",
    "            if img[x][y] < 127:\n",
    "                img[x][y] = 0\n",
    "            else:\n",
    "                img[x][y] -= 127\n",
    "            \n",
    "    return img"
   ]
  }
 ],
 "metadata": {
  "kernelspec": {
   "display_name": "Python 3 (ipykernel)",
   "language": "python",
   "name": "python3"
  },
  "language_info": {
   "codemirror_mode": {
    "name": "ipython",
    "version": 3
   },
   "file_extension": ".py",
   "mimetype": "text/x-python",
   "name": "python",
   "nbconvert_exporter": "python",
   "pygments_lexer": "ipython3",
   "version": "3.9.13"
  }
 },
 "nbformat": 4,
 "nbformat_minor": 5
}
