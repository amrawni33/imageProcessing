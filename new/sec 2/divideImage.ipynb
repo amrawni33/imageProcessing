{
 "cells": [
  {
   "cell_type": "code",
   "execution_count": null,
   "id": "868799cd",
   "metadata": {},
   "outputs": [],
   "source": [
    "def divideImage(new_img):\n",
    "    for x in range(new_img.shape[0]):\n",
    "        for y in range(new_img.shape[1]):\n",
    "            new_pixel_value = new_img[x][y] / 2\n",
    "            new_img[x][y] = np.minimum(new_pixel_value, 255)\n",
    "    \n",
    "    return new_img"
   ]
  }
 ],
 "metadata": {
  "kernelspec": {
   "display_name": "Python 3 (ipykernel)",
   "language": "python",
   "name": "python3"
  },
  "language_info": {
   "codemirror_mode": {
    "name": "ipython",
    "version": 3
   },
   "file_extension": ".py",
   "mimetype": "text/x-python",
   "name": "python",
   "nbconvert_exporter": "python",
   "pygments_lexer": "ipython3",
   "version": "3.9.13"
  }
 },
 "nbformat": 4,
 "nbformat_minor": 5
}
