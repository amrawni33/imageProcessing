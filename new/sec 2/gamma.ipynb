{
 "cells": [
  {
   "cell_type": "code",
   "execution_count": 5,
   "id": "a2d6e140",
   "metadata": {},
   "outputs": [],
   "source": [
    "def gamma_correction(image,c,gamma):            # parameter C is just a constant\n",
    "    corrected_image = np.copy(image)\n",
    "    # Normalize the image to the range [0, 1]\n",
    "    image = image.astype(np.float32) / 255.0\n",
    "    # Get image dimensions\n",
    "    height, width, _ = image.shape\n",
    "    for i in range(height):\n",
    "        for j in range(width):\n",
    "            corrected_image[i,j]=c*(image[i,j]**gamma)\n",
    "    return corrected_image"
   ]
  }
 ],
 "metadata": {
  "kernelspec": {
   "display_name": "Python 3 (ipykernel)",
   "language": "python",
   "name": "python3"
  },
  "language_info": {
   "codemirror_mode": {
    "name": "ipython",
    "version": 3
   },
   "file_extension": ".py",
   "mimetype": "text/x-python",
   "name": "python",
   "nbconvert_exporter": "python",
   "pygments_lexer": "ipython3",
   "version": "3.9.13"
  }
 },
 "nbformat": 4,
 "nbformat_minor": 5
}
